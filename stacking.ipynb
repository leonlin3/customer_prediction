{
 "cells": [
  {
   "cell_type": "code",
   "execution_count": 1,
   "metadata": {},
   "outputs": [],
   "source": [
    "from sklearn import linear_model\n",
    "import numpy as np\n",
    "import pandas as pd\n",
    "import time\n",
    "from sklearn.model_selection import KFold,RepeatedKFold\n",
    "from sklearn.metrics import roc_auc_score\n",
    "from sklearn.metrics import accuracy_score\n",
    "from sklearn.metrics import f1_score"
   ]
  },
  {
   "cell_type": "code",
   "execution_count": 2,
   "metadata": {},
   "outputs": [],
   "source": [
    "#%%将lgb和xgb和ctb的结果进行stacking\n",
    "\n",
    "#读取stacking数据\n",
    "out_dir = \"result/\"\n",
    "oof_lgb1=np.load(out_dir+\"lgb_result/2020-05-10-22-12-44/oof_lgb.npy\")\n",
    "oof_lgb2=np.load(out_dir+\"lgb2_result/2020-05-10-22-18-49/oof_lgb.npy\")\n",
    "oof_lgb3=np.load(out_dir+\"lgb3_result/2020-05-10-22-19-31/oof_lgb.npy\")\n",
    "oof_lgb4=np.load(out_dir+\"lgb4_result/2020-05-10-22-23-02/oof_lgb.npy\")\n",
    "oof_xgb=np.load(out_dir+\"xgb_result/2020-05-10-23-03-05/oof_xgb.npy\")\n",
    "oof_xgb2=np.load(out_dir+\"xgb2_result/2020-05-10-23-26-58/oof_xgb.npy\")\n",
    "oof_xgb3=np.load(out_dir+\"xgb3_result/2020-05-12-09-57-49/oof_xgb.npy\")\n",
    "oof_xgb4=np.load(out_dir+\"xgb4_result/2020-05-12-10-22-35/oof_xgb.npy\")\n",
    "oof_gbdt=np.load(out_dir+\"gbdt_result/2020-05-10-18-54-49/oof_gbdt.npy\")\n",
    "oof_gbdt2=np.load(out_dir+\"gbdt2_result/2020-05-12-13-15-56/oof_gbdt.npy\")\n",
    "\n",
    "\n",
    "prediction_lgb1=np.load(out_dir +\"lgb_result/2020-05-10-22-12-44/prediction_lgb.npy\")\n",
    "prediction_lgb2=np.load(out_dir +\"lgb2_result/2020-05-10-22-18-49/prediction_lgb.npy\")\n",
    "prediction_lgb3=np.load(out_dir +\"lgb3_result/2020-05-10-22-19-31/prediction_lgb.npy\")\n",
    "prediction_lgb4=np.load(out_dir +\"lgb4_result/2020-05-10-22-23-02/prediction_lgb.npy\")\n",
    "prediction_xgb=np.load(out_dir +\"xgb_result/2020-05-10-23-03-05/prediction_xgb.npy\")\n",
    "prediction_xgb2=np.load(out_dir+\"xgb2_result/2020-05-10-23-26-58/prediction_xgb.npy\")\n",
    "prediction_xgb3=np.load(out_dir+\"xgb3_result/2020-05-12-09-57-49/prediction_xgb.npy\")\n",
    "prediction_xgb4=np.load(out_dir+\"xgb4_result/2020-05-12-10-22-35/prediction_xgb.npy\")\n",
    "prediction_gbdt=np.load(out_dir+\"gbdt_result/2020-05-10-18-54-49/prediction_gbdt.npy\")\n",
    "prediction_gbdt2=np.load(out_dir+\"gbdt2_result/2020-05-12-13-15-56/prediction_gbdt.npy\")\n",
    "\n",
    "\n",
    "\n",
    "#读取训练集和测试集\n",
    "train=pd.read_csv('data/train1.csv')\n",
    "test=pd.read_csv('data/test1.csv')\n"
   ]
  },
  {
   "cell_type": "code",
   "execution_count": 13,
   "metadata": {},
   "outputs": [],
   "source": [
    "features=list(train.columns)\n",
    "features.remove('flag')\n",
    "X_train, y_train=train[features],train['flag']\n",
    "X_test = test[features]"
   ]
  },
  {
   "cell_type": "code",
   "execution_count": 14,
   "metadata": {},
   "outputs": [],
   "source": [
    "prediction=pd.DataFrame(test['id'])"
   ]
  },
  {
   "cell_type": "code",
   "execution_count": 15,
   "metadata": {},
   "outputs": [
    {
     "name": "stdout",
     "output_type": "stream",
     "text": [
      "fold 0\n",
      "fold 1\n",
      "fold 2\n",
      "fold 3\n",
      "fold 4\n",
      "fold 5\n",
      "fold 6\n",
      "fold 7\n",
      "fold 8\n",
      "fold 9\n",
      "CV score(ACC): 0.87496 \n",
      "CV score(AUC): 0.92687 \n",
      "CV score(F1): 0.8743\n"
     ]
    }
   ],
   "source": [
    "#%%构建stack模型\n",
    "start = time.clock()\n",
    "train_stack = np.vstack([oof_lgb1,oof_lgb2, oof_lgb3, oof_lgb4, oof_xgb, oof_xgb2, oof_xgb3, oof_xgb4, oof_gbdt, oof_gbdt2]).transpose()\n",
    "test_stack = np.vstack([prediction_lgb1,prediction_lgb2, prediction_lgb3, prediction_lgb4, prediction_xgb, prediction_xgb2, prediction_xgb3, prediction_xgb4, prediction_gbdt, prediction_gbdt2]).transpose()\n",
    "\n",
    "\n",
    "folds_stack = RepeatedKFold(n_splits=5, n_repeats=2, random_state=2019)\n",
    "oof_stack = np.zeros(train_stack.shape[0])\n",
    "prediction_stack = np.zeros(test_stack.shape[0])\n",
    "\n",
    "result=np.zeros((X_train.shape[0], ))\n",
    "for fold_, (trn_idx, val_idx) in enumerate(folds_stack.split(train_stack,y_train)):\n",
    "    print(\"fold {}\".format(fold_))\n",
    "    trn_data, trn_y = train_stack[trn_idx], y_train[trn_idx]\n",
    "    val_data, val_y = train_stack[val_idx], y_train[val_idx]\n",
    "    \n",
    "    clf_3 = linear_model.BayesianRidge(alpha_1=10, lambda_1=10)\n",
    "    #clf_3 =linear_model.Ridge()\n",
    "    clf_3.fit(trn_data, trn_y)\n",
    "    \n",
    "    oof_stack[val_idx] = clf_3.predict(val_data)\n",
    "    threshold = 0.5\n",
    "    for i in val_idx:\n",
    "        result[i] = 1 if oof_stack[i] > threshold else 0\n",
    "    prediction_stack += clf_3.predict(test_stack) / 10\n",
    "\n",
    "print(\"CV score(ACC): {:<8.5f}\".format(accuracy_score(y_train, result)))\n",
    "print(\"CV score(AUC): {:<8.5f}\".format(roc_auc_score(y_train, oof_stack)))\n",
    "print ('CV score(F1): %.4f' % f1_score(y_train, result,average='weighted'))"
   ]
  },
  {
   "cell_type": "code",
   "execution_count": 17,
   "metadata": {},
   "outputs": [],
   "source": [
    "prediction['pred']=prediction_stack"
   ]
  },
  {
   "cell_type": "code",
   "execution_count": 8,
   "metadata": {},
   "outputs": [
    {
     "data": {
      "text/html": [
       "<div>\n",
       "<style scoped>\n",
       "    .dataframe tbody tr th:only-of-type {\n",
       "        vertical-align: middle;\n",
       "    }\n",
       "\n",
       "    .dataframe tbody tr th {\n",
       "        vertical-align: top;\n",
       "    }\n",
       "\n",
       "    .dataframe thead th {\n",
       "        text-align: right;\n",
       "    }\n",
       "</style>\n",
       "<table border=\"1\" class=\"dataframe\">\n",
       "  <thead>\n",
       "    <tr style=\"text-align: right;\">\n",
       "      <th></th>\n",
       "      <th>id</th>\n",
       "      <th>pred</th>\n",
       "    </tr>\n",
       "  </thead>\n",
       "  <tbody>\n",
       "    <tr>\n",
       "      <th>0</th>\n",
       "      <td>U1E63A3</td>\n",
       "      <td>0.316861</td>\n",
       "    </tr>\n",
       "    <tr>\n",
       "      <th>1</th>\n",
       "      <td>U3EC77F</td>\n",
       "      <td>0.203708</td>\n",
       "    </tr>\n",
       "    <tr>\n",
       "      <th>2</th>\n",
       "      <td>U27DC0C</td>\n",
       "      <td>0.073599</td>\n",
       "    </tr>\n",
       "    <tr>\n",
       "      <th>3</th>\n",
       "      <td>U3FAAAC</td>\n",
       "      <td>0.085639</td>\n",
       "    </tr>\n",
       "    <tr>\n",
       "      <th>4</th>\n",
       "      <td>U04EA0B</td>\n",
       "      <td>0.074116</td>\n",
       "    </tr>\n",
       "    <tr>\n",
       "      <th>...</th>\n",
       "      <td>...</td>\n",
       "      <td>...</td>\n",
       "    </tr>\n",
       "    <tr>\n",
       "      <th>3995</th>\n",
       "      <td>U0FBFE2</td>\n",
       "      <td>0.030287</td>\n",
       "    </tr>\n",
       "    <tr>\n",
       "      <th>3996</th>\n",
       "      <td>U506AD2</td>\n",
       "      <td>0.089982</td>\n",
       "    </tr>\n",
       "    <tr>\n",
       "      <th>3997</th>\n",
       "      <td>U287B33</td>\n",
       "      <td>0.111454</td>\n",
       "    </tr>\n",
       "    <tr>\n",
       "      <th>3998</th>\n",
       "      <td>U15134F</td>\n",
       "      <td>0.123669</td>\n",
       "    </tr>\n",
       "    <tr>\n",
       "      <th>3999</th>\n",
       "      <td>U41D5EB</td>\n",
       "      <td>0.253131</td>\n",
       "    </tr>\n",
       "  </tbody>\n",
       "</table>\n",
       "<p>4000 rows × 2 columns</p>\n",
       "</div>"
      ],
      "text/plain": [
       "           id      pred\n",
       "0     U1E63A3  0.316861\n",
       "1     U3EC77F  0.203708\n",
       "2     U27DC0C  0.073599\n",
       "3     U3FAAAC  0.085639\n",
       "4     U04EA0B  0.074116\n",
       "...       ...       ...\n",
       "3995  U0FBFE2  0.030287\n",
       "3996  U506AD2  0.089982\n",
       "3997  U287B33  0.111454\n",
       "3998  U15134F  0.123669\n",
       "3999  U41D5EB  0.253131\n",
       "\n",
       "[4000 rows x 2 columns]"
      ]
     },
     "execution_count": 8,
     "metadata": {},
     "output_type": "execute_result"
    }
   ],
   "source": [
    "prediction"
   ]
  },
  {
   "cell_type": "code",
   "execution_count": 18,
   "metadata": {},
   "outputs": [],
   "source": [
    "prediction.to_csv('result/predict_stack.txt', sep = '\\t', index = 0, header = 0)"
   ]
  },
  {
   "cell_type": "code",
   "execution_count": 10,
   "metadata": {},
   "outputs": [
    {
     "data": {
      "text/plain": [
       "4000"
      ]
     },
     "execution_count": 10,
     "metadata": {},
     "output_type": "execute_result"
    }
   ],
   "source": []
  },
  {
   "cell_type": "code",
   "execution_count": null,
   "metadata": {},
   "outputs": [],
   "source": []
  }
 ],
 "metadata": {
  "kernelspec": {
   "display_name": "Python 3",
   "language": "python",
   "name": "python3"
  },
  "language_info": {
   "codemirror_mode": {
    "name": "ipython",
    "version": 3
   },
   "file_extension": ".py",
   "mimetype": "text/x-python",
   "name": "python",
   "nbconvert_exporter": "python",
   "pygments_lexer": "ipython3",
   "version": "3.6.9"
  }
 },
 "nbformat": 4,
 "nbformat_minor": 2
}
