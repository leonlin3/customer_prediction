{
 "cells": [
  {
   "cell_type": "code",
   "execution_count": 2,
   "metadata": {},
   "outputs": [],
   "source": [
    "import numpy as np\n",
    "import pandas as pd\n",
    "from sklearn.ensemble import GradientBoostingClassifier\n",
    "from sklearn.ensemble import ExtraTreesClassifier\n",
    "import os\n",
    "import time \n",
    "import matplotlib.pyplot as plt\n",
    "import seaborn as sns\n",
    "from sklearn.metrics import roc_auc_score, roc_curve\n",
    "from sklearn.model_selection import KFold\n",
    "from sklearn.model_selection import train_test_split\n",
    "from sklearn.linear_model import LogisticRegression\n",
    "from sklearn import metrics\n",
    "from sklearn.metrics import accuracy_score\n",
    "from sklearn.metrics import f1_score\n",
    "from sklearn.metrics import roc_auc_score\n",
    "from sklearn.metrics import auc\n",
    "from sklearn.metrics import zero_one_loss\n",
    "import pickle\n",
    "import random"
   ]
  },
  {
   "cell_type": "code",
   "execution_count": 3,
   "metadata": {},
   "outputs": [],
   "source": [
    "#%%划分训练集和测试集\n",
    "#读取数据集\n",
    "train=pd.read_csv('data/train1.csv')\n",
    "test=pd.read_csv('data/test1.csv')"
   ]
  },
  {
   "cell_type": "code",
   "execution_count": 4,
   "metadata": {},
   "outputs": [],
   "source": [
    "features=list(train.columns)\n",
    "features.remove('flag')\n",
    "X_train, y_train=train[features],train['flag']\n",
    "X_test = test[features]"
   ]
  },
  {
   "cell_type": "markdown",
   "metadata": {},
   "source": [
    "# 交叉验证"
   ]
  },
  {
   "cell_type": "code",
   "execution_count": 5,
   "metadata": {},
   "outputs": [],
   "source": [
    "#%%预测框架\n",
    "prob_oof = np.zeros((X_train.shape[0], ))\n",
    "result = np.zeros((X_train.shape[0], ))\n",
    "test_pred_prob = np.zeros((X_test.shape[0], ))\n",
    "test_result=[]\n",
    "#prediction=pd.DataFrame(y_test)\n",
    "prediction=pd.DataFrame(test['id'])"
   ]
  },
  {
   "cell_type": "markdown",
   "metadata": {},
   "source": [
    "## gbdt"
   ]
  },
  {
   "cell_type": "code",
   "execution_count": 6,
   "metadata": {},
   "outputs": [
    {
     "name": "stdout",
     "output_type": "stream",
     "text": [
      "fold 1\n",
      "fold 2\n",
      "fold 3\n",
      "fold 4\n",
      "fold 5\n",
      "fold 6\n",
      "fold 7\n",
      "fold 8\n",
      "fold 9\n",
      "fold 10\n",
      "CV score(ACC): 0.87191 \n",
      "CV score(AUC): 0.92460 \n",
      "CV score(F1): 0.8712\n",
      "Time used: 5826.083414\n"
     ]
    }
   ],
   "source": [
    "#%%模型求解\n",
    "start = time.clock()\n",
    "\n",
    "##k折交叉验证\n",
    "folds = KFold(n_splits=10, shuffle=True, random_state=2019)\n",
    "\n",
    "##训练和测试\n",
    "feature_importance_df = pd.DataFrame()\n",
    "for fold_, (trn_idx, val_idx) in enumerate(folds.split(X_train,y_train)):\n",
    "    print(\"fold {}\".format(fold_ + 1))\n",
    "    trn_data, trn_label = X_train.iloc[trn_idx], y_train.iloc[trn_idx]\n",
    "    val_data, val_label = X_train.iloc[val_idx], y_train.iloc[val_idx]\n",
    "\n",
    "    clf = GradientBoostingClassifier(learning_rate = 0.01, max_features = 0.8, n_estimators = 1000 , max_depth = 5).fit(trn_data, trn_label)\n",
    "    prob_oof[val_idx] = clf.predict_proba(val_data)[:,1]\n",
    "    \n",
    "    threshold = 0.5\n",
    "    for i in val_idx:\n",
    "        result[i] = 1 if prob_oof[i] > threshold else 0\n",
    "    test_pred_prob += clf.predict_proba(X_test)[:,1] / folds.n_splits\n",
    "\n",
    "print(\"CV score(ACC): {:<8.5f}\".format(accuracy_score(y_train, result)))\n",
    "print(\"CV score(AUC): {:<8.5f}\".format(roc_auc_score(y_train, prob_oof)))\n",
    "print ('CV score(F1): %.4f' % f1_score(y_train, result,average='weighted'))\n",
    "\n",
    "\n",
    "##计算运行时间\n",
    "elapsed = (time.clock() - start)\n",
    "print(\"Time used:\",elapsed)"
   ]
  },
  {
   "cell_type": "code",
   "execution_count": 7,
   "metadata": {},
   "outputs": [],
   "source": [
    "minmin = min(prob_oof)\n",
    "maxmax = max(prob_oof)\n",
    "vfunc = np.vectorize(lambda x:(x-minmin)/(maxmax-minmin))\n",
    "prob_oof=vfunc(prob_oof)\n",
    "\n",
    "minmin = min(test_pred_prob)\n",
    "maxmax = max(test_pred_prob)\n",
    "vfunc = np.vectorize(lambda x:(x-minmin)/(maxmax-minmin))\n",
    "test_pred_prob=vfunc(test_pred_prob)"
   ]
  },
  {
   "cell_type": "code",
   "execution_count": null,
   "metadata": {},
   "outputs": [],
   "source": []
  },
  {
   "cell_type": "code",
   "execution_count": 14,
   "metadata": {},
   "outputs": [],
   "source": [
    "##测试\n",
    "for pred in test_pred_prob:\n",
    "    s = 1 if pred > threshold else 0\n",
    "    test_result.append(s)\n",
    "minmin = min(test_pred_prob)\n",
    "maxmax = max(test_pred_prob)\n",
    "vfunc = np.vectorize(lambda x:(x-minmin)/(maxmax-minmin))\n",
    "prediction['pred']=vfunc(test_pred_prob)\n",
    "#prediction['pred']=test_result \n",
    "#print ('ACC: %.4f' % accuracy_score(y_test,test_result))\n",
    "#print(\"AUC: {:<8.5f}\".format(roc_auc_score(y_test, test_pred_prob)))\n",
    "#print ('F1: %.4f' % f1_score(y_test,test_result,average='weighted'))"
   ]
  },
  {
   "cell_type": "code",
   "execution_count": 8,
   "metadata": {},
   "outputs": [],
   "source": [
    "# 获取时间\n",
    "time_str = time.strftime(\"%Y-%m-%d-%H-%M-%S\", time.localtime())\n",
    "# 保存模型\n",
    "out_dir = \"result/gbdt_result/{}/\".format(time_str)\n",
    "os.makedirs(out_dir)\n",
    "\n",
    "\n",
    "#保存结果\n",
    "prediction.to_csv(out_dir + \"prediction.csv\",index=False)\n",
    "np.save(out_dir + \"prediction_gbdt.npy\",test_pred_prob)\n",
    "np.save(out_dir + \"oof_gbdt.npy\",prob_oof)"
   ]
  },
  {
   "cell_type": "markdown",
   "metadata": {},
   "source": [
    "# gbdt model2"
   ]
  },
  {
   "cell_type": "code",
   "execution_count": 9,
   "metadata": {},
   "outputs": [],
   "source": [
    "#%%预测框架\n",
    "prob_oof = np.zeros((X_train.shape[0], ))\n",
    "result = np.zeros((X_train.shape[0], ))\n",
    "test_pred_prob = np.zeros((X_test.shape[0], ))\n",
    "test_result=[]\n",
    "#prediction=pd.DataFrame(y_test)\n",
    "prediction=pd.DataFrame(test['id'])"
   ]
  },
  {
   "cell_type": "code",
   "execution_count": 10,
   "metadata": {},
   "outputs": [
    {
     "name": "stdout",
     "output_type": "stream",
     "text": [
      "fold 1\n",
      "fold 2\n",
      "fold 3\n",
      "fold 4\n",
      "fold 5\n",
      "fold 6\n",
      "fold 7\n",
      "fold 8\n",
      "fold 9\n",
      "fold 10\n",
      "CV score(ACC): 0.87036 \n",
      "CV score(AUC): 0.92369 \n",
      "CV score(F1): 0.8696\n",
      "Time used: 3842.857196\n"
     ]
    }
   ],
   "source": [
    "#%%模型求解\n",
    "start = time.clock()\n",
    "\n",
    "##k折交叉验证\n",
    "folds = KFold(n_splits=10, shuffle=True, random_state=2019)\n",
    "\n",
    "##训练和测试\n",
    "feature_importance_df = pd.DataFrame()\n",
    "for fold_, (trn_idx, val_idx) in enumerate(folds.split(X_train,y_train)):\n",
    "    print(\"fold {}\".format(fold_ + 1))\n",
    "    trn_data, trn_label = X_train.iloc[trn_idx], y_train.iloc[trn_idx]\n",
    "    val_data, val_label = X_train.iloc[val_idx], y_train.iloc[val_idx]\n",
    "\n",
    "    clf = GradientBoostingClassifier(learning_rate = 0.01, max_features = 0.7, n_estimators = 700 , max_depth = 5).fit(trn_data, trn_label)\n",
    "    prob_oof[val_idx] = clf.predict_proba(val_data)[:,1]\n",
    "    \n",
    "    threshold = 0.5\n",
    "    for i in val_idx:\n",
    "        result[i] = 1 if prob_oof[i] > threshold else 0\n",
    "    test_pred_prob += clf.predict_proba(X_test)[:,1] / folds.n_splits\n",
    "\n",
    "print(\"CV score(ACC): {:<8.5f}\".format(accuracy_score(y_train, result)))\n",
    "print(\"CV score(AUC): {:<8.5f}\".format(roc_auc_score(y_train, prob_oof)))\n",
    "print ('CV score(F1): %.4f' % f1_score(y_train, result,average='weighted'))\n",
    "\n",
    "\n",
    "##计算运行时间\n",
    "elapsed = (time.clock() - start)\n",
    "print(\"Time used:\",elapsed)"
   ]
  },
  {
   "cell_type": "code",
   "execution_count": 11,
   "metadata": {},
   "outputs": [],
   "source": [
    "# 获取时间\n",
    "time_str = time.strftime(\"%Y-%m-%d-%H-%M-%S\", time.localtime())\n",
    "# 保存模型\n",
    "out_dir = \"result/gbdt2_result/{}/\".format(time_str)\n",
    "os.makedirs(out_dir)\n",
    "\n",
    "\n",
    "#保存结果\n",
    "prediction.to_csv(out_dir + \"prediction.csv\",index=False)\n",
    "np.save(out_dir + \"prediction_gbdt.npy\",test_pred_prob)\n",
    "np.save(out_dir + \"oof_gbdt.npy\",prob_oof)"
   ]
  },
  {
   "cell_type": "markdown",
   "metadata": {},
   "source": [
    "## randomForest"
   ]
  },
  {
   "cell_type": "code",
   "execution_count": 11,
   "metadata": {},
   "outputs": [],
   "source": [
    "#%%预测框架\n",
    "prob_oof = np.zeros((X_train.shape[0], ))\n",
    "result = np.zeros((X_train.shape[0], ))\n",
    "test_pred_prob = np.zeros((X_test.shape[0], ))\n",
    "test_result=[]\n",
    "#prediction=pd.DataFrame(y_test)\n",
    "prediction=pd.DataFrame(test['id'])"
   ]
  },
  {
   "cell_type": "code",
   "execution_count": null,
   "metadata": {},
   "outputs": [
    {
     "name": "stdout",
     "output_type": "stream",
     "text": [
      "fold 1\n",
      "fold 2\n",
      "fold 3\n"
     ]
    }
   ],
   "source": [
    "#%%模型求解\n",
    "start = time.clock()\n",
    "\n",
    "##k折交叉验证\n",
    "folds = KFold(n_splits=5, shuffle=True, random_state=2019)\n",
    "\n",
    "##训练和测试\n",
    "feature_importance_df = pd.DataFrame()\n",
    "for fold_, (trn_idx, val_idx) in enumerate(folds.split(X_train,y_train)):\n",
    "    print(\"fold {}\".format(fold_ + 1))\n",
    "    trn_data, trn_label = X_train.iloc[trn_idx], y_train.iloc[trn_idx]\n",
    "    val_data, val_label = X_train.iloc[val_idx], y_train.iloc[val_idx]\n",
    "\n",
    "    clf = ExtraTreesClassifier(max_features = 'log2', n_estimators = 1000 , n_jobs = -1).fit(trn_data, trn_label)\n",
    "    prob_oof[val_idx] = clf.predict_proba(val_data)[:,1]\n",
    "    \n",
    "    threshold = 0.5\n",
    "    for i in val_idx:\n",
    "        result[i] = 1 if prob_oof[i] > threshold else 0\n",
    "    test_pred_prob += clf.predict_proba(X_test)[:,1] / folds.n_splits\n",
    "\n",
    "print(\"CV score(ACC): {:<8.5f}\".format(accuracy_score(y_train, result)))\n",
    "print(\"CV score(AUC): {:<8.5f}\".format(roc_auc_score(y_train, prob_oof)))\n",
    "print ('CV score(F1): %.4f' % f1_score(y_train, result,average='weighted'))\n",
    "\n",
    "\n",
    "##计算运行时间\n",
    "elapsed = (time.clock() - start)\n",
    "print(\"Time used:\",elapsed)"
   ]
  },
  {
   "cell_type": "code",
   "execution_count": null,
   "metadata": {},
   "outputs": [],
   "source": [
    "minmin = min(prob_oof)\n",
    "maxmax = max(prob_oof)\n",
    "vfunc = np.vectorize(lambda x:(x-minmin)/(maxmax-minmin))\n",
    "prob_oof=vfunc(prob_oof)\n",
    "\n",
    "minmin = min(test_pred_prob)\n",
    "maxmax = max(test_pred_prob)\n",
    "vfunc = np.vectorize(lambda x:(x-minmin)/(maxmax-minmin))\n",
    "test_pred_prob=vfunc(test_pred_prob)"
   ]
  },
  {
   "cell_type": "code",
   "execution_count": 19,
   "metadata": {},
   "outputs": [],
   "source": [
    "##测试\n",
    "for pred in test_pred_prob:\n",
    "    s = 1 if pred > threshold else 0\n",
    "    test_result.append(s)\n",
    "minmin = min(test_pred_prob)\n",
    "maxmax = max(test_pred_prob)\n",
    "vfunc = np.vectorize(lambda x:(x-minmin)/(maxmax-minmin))\n",
    "prediction['pred']=vfunc(test_pred_prob)\n",
    "#prediction['pred']=test_result \n",
    "#print ('ACC: %.4f' % accuracy_score(y_test,test_result))\n",
    "#print(\"AUC: {:<8.5f}\".format(roc_auc_score(y_test, test_pred_prob)))\n",
    "#print ('F1: %.4f' % f1_score(y_test,test_result,average='weighted'))"
   ]
  },
  {
   "cell_type": "code",
   "execution_count": 20,
   "metadata": {},
   "outputs": [],
   "source": [
    "# 获取时间\n",
    "time_str = time.strftime(\"%Y-%m-%d-%H-%M-%S\", time.localtime())\n",
    "# 保存模型\n",
    "out_dir = \"result/rf_result/{}/\".format(time_str)\n",
    "os.makedirs(out_dir)\n",
    "\n",
    "\n",
    "#保存结果\n",
    "prediction.to_csv(out_dir + \"prediction.csv\",index=False)\n",
    "np.save(out_dir + \"prediction_rf.npy\",test_pred_prob)\n",
    "np.save(out_dir + \"oof_rf.npy\",prob_oof)"
   ]
  },
  {
   "cell_type": "code",
   "execution_count": 22,
   "metadata": {},
   "outputs": [],
   "source": [
    "prediction.to_csv('predict_01.txt', sep = '\\t', index = 0, header = 0)"
   ]
  },
  {
   "cell_type": "code",
   "execution_count": null,
   "metadata": {},
   "outputs": [],
   "source": []
  }
 ],
 "metadata": {
  "kernelspec": {
   "display_name": "Python 3",
   "language": "python",
   "name": "python3"
  },
  "language_info": {
   "codemirror_mode": {
    "name": "ipython",
    "version": 3
   },
   "file_extension": ".py",
   "mimetype": "text/x-python",
   "name": "python",
   "nbconvert_exporter": "python",
   "pygments_lexer": "ipython3",
   "version": "3.6.9"
  }
 },
 "nbformat": 4,
 "nbformat_minor": 2
}
